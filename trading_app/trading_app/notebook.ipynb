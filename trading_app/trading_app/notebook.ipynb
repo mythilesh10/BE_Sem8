{
 "cells": [
  {
   "cell_type": "code",
   "execution_count": 2,
   "id": "a3d68291",
   "metadata": {},
   "outputs": [],
   "source": [
    "import pandas as pd\n",
    "from sklearn.model_selection import train_test_split\n",
    "from sklearn.tree import DecisionTreeClassifier\n",
    "from sklearn.metrics import accuracy_score\n",
    "import talib\n",
    "import numpy as np\n",
    "import yfinance as yf\n",
    "from datetime import datetime, timedelta"
   ]
  },
  {
   "cell_type": "code",
   "execution_count": 3,
   "id": "d8daf3d5",
   "metadata": {},
   "outputs": [],
   "source": [
    "\n",
    "def download_data(ticker, start_date, end_date):\n",
    "    try:\n",
    "        # Download data\n",
    "        data = yf.download(ticker, start=start_date, end=end_date, interval='5m')\n",
    "        return data\n",
    "    except Exception as e:\n",
    "        print(\"Error:\", e)\n",
    "        return None\n",
    "\n",
    "\n",
    "\n",
    "def generate_features_labels(data):\n",
    "    # Calculate EMA\n",
    "    data['EMA_short'] = talib.EMA(data['Close'], timeperiod=short_period)\n",
    "    data['EMA_long'] = talib.EMA(data['Close'], timeperiod=long_period)\n",
    "\n",
    "    # Calculate MACD\n",
    "    data['macd'], data['signal'], _ = talib.MACD(data['Close'])\n",
    "\n",
    "    # Calculate RSI\n",
    "    data['RSI'] = talib.RSI(data['Close'])\n",
    "\n",
    "    # Calculate MFI\n",
    "    data['MFI'] = talib.MFI(data['High'], data['Low'], data['Close'], data['Volume'])\n",
    "\n",
    "    # Calculate SAR\n",
    "    data['SAR'] = talib.SAR(data['High'], data['Low'])\n",
    "\n",
    "    # Shift the indicators by one day to compare with the previous day's values\n",
    "    for indicator in ['EMA_short', 'EMA_long', 'macd', 'signal', 'RSI', 'MFI', 'SAR']:\n",
    "        data[indicator + '_prev'] = data[indicator].shift(1)\n",
    "    data['close_prev'] = data['Close'].shift(1)\n",
    "\n",
    "    # Generate signals\n",
    "    buy_signals = (\n",
    "        ((data['EMA_short'] >= data['EMA_long']) & (data['EMA_short_prev'] < data['EMA_long_prev'])) |\n",
    "        ((data['macd'] >= data['signal']) & (data['macd_prev'] < data['signal_prev'])) |\n",
    "        ((data['RSI'] <= 30) & (data['RSI_prev'] > 30)) |\n",
    "        ((data['MFI'] <= 20) & (data['MFI_prev'] > 20)) |\n",
    "        ((data['SAR'] <= data['Close']) & (data['SAR_prev'] > data['close_prev']))\n",
    "    )\n",
    "\n",
    "    sell_signals = (\n",
    "        ((data['EMA_short'] <= data['EMA_long']) & (data['EMA_short_prev'] > data['EMA_long_prev'])) |\n",
    "        ((data['macd'] <= data['signal']) & (data['macd_prev'] > data['signal_prev'])) |\n",
    "        ((data['RSI'] >= 70) & (data['RSI_prev'] < 70)) |\n",
    "        ((data['MFI'] >= 80) & (data['MFI_prev'] < 80)) |\n",
    "        ((data['SAR'] >= data['Close']) & (data['SAR_prev'] < data['close_prev']))\n",
    "    )\n",
    "\n",
    "    data['signal'] = np.where(buy_signals, 1, np.where(sell_signals, -1, 0))\n",
    "    \n",
    "    # Drop NaN values\n",
    "    data.dropna(inplace=True)\n",
    "    \n",
    "    # Features and labels\n",
    "    X = data[['EMA_short', 'EMA_long', 'macd', 'signal', 'RSI', 'MFI', 'SAR']]\n",
    "    y = data['signal']\n",
    "    \n",
    "    return X, y\n",
    "\n",
    "\n"
   ]
  },
  {
   "cell_type": "code",
   "execution_count": 4,
   "id": "1c895f3b",
   "metadata": {},
   "outputs": [
    {
     "name": "stderr",
     "output_type": "stream",
     "text": [
      "[*********************100%%**********************]  1 of 1 completed"
     ]
    },
    {
     "name": "stdout",
     "output_type": "stream",
     "text": [
      "                                  Open         High          Low        Close  \\\n",
      "Datetime                                                                        \n",
      "2024-05-06 09:15:00+05:30  3507.600098  3510.850098  3488.000000  3491.100098   \n",
      "2024-05-06 09:20:00+05:30  3489.300049  3492.550049  3483.699951  3487.000000   \n",
      "2024-05-06 09:25:00+05:30  3489.949951  3492.000000  3486.050049  3491.000000   \n",
      "2024-05-06 09:30:00+05:30  3491.500000  3492.000000  3488.649902  3490.000000   \n",
      "2024-05-06 09:35:00+05:30  3489.899902  3489.949951  3473.500000  3475.000000   \n",
      "...                                ...          ...          ...          ...   \n",
      "2024-05-09 15:05:00+05:30  3272.149902  3276.850098  3270.500000  3274.600098   \n",
      "2024-05-09 15:10:00+05:30  3274.250000  3275.899902  3270.800049  3272.500000   \n",
      "2024-05-09 15:15:00+05:30  3272.250000  3276.600098  3270.000000  3275.949951   \n",
      "2024-05-09 15:20:00+05:30  3276.000000  3280.000000  3275.000000  3278.949951   \n",
      "2024-05-09 15:25:00+05:30  3278.949951  3292.000000  3278.050049  3289.949951   \n",
      "\n",
      "                             Adj Close  Volume  \n",
      "Datetime                                        \n",
      "2024-05-06 09:15:00+05:30  3491.100098       0  \n",
      "2024-05-06 09:20:00+05:30  3487.000000   36830  \n",
      "2024-05-06 09:25:00+05:30  3491.000000   31354  \n",
      "2024-05-06 09:30:00+05:30  3490.000000   14421  \n",
      "2024-05-06 09:35:00+05:30  3475.000000  226216  \n",
      "...                                ...     ...  \n",
      "2024-05-09 15:05:00+05:30  3274.600098  192792  \n",
      "2024-05-09 15:10:00+05:30  3272.500000  201428  \n",
      "2024-05-09 15:15:00+05:30  3275.949951  249832  \n",
      "2024-05-09 15:20:00+05:30  3278.949951  147089  \n",
      "2024-05-09 15:25:00+05:30  3289.949951  194423  \n",
      "\n",
      "[300 rows x 6 columns]\n"
     ]
    },
    {
     "name": "stderr",
     "output_type": "stream",
     "text": [
      "\n"
     ]
    },
    {
     "data": {
      "text/plain": [
       "pandas.core.frame.DataFrame"
      ]
     },
     "execution_count": 4,
     "metadata": {},
     "output_type": "execute_result"
    }
   ],
   "source": [
    "ticker_symbol = \"LT.NS\"  # Example ticker symbol\n",
    "start_date = \"2024-05-06\"  # Example start date\n",
    "end_date = \"2024-05-10\"    # Example end date\n",
    "\n",
    "data = download_data(ticker_symbol, start_date, end_date)\n",
    "print(data)\n",
    "type(data)"
   ]
  },
  {
   "cell_type": "code",
   "execution_count": 5,
   "id": "80f95170",
   "metadata": {
    "scrolled": false
   },
   "outputs": [
    {
     "name": "stdout",
     "output_type": "stream",
     "text": [
      "<class 'pandas.core.frame.DataFrame'>\n",
      "RangeIndex: 300 entries, 0 to 299\n",
      "Data columns (total 7 columns):\n",
      " #   Column     Non-Null Count  Dtype                       \n",
      "---  ------     --------------  -----                       \n",
      " 0   Datetime   300 non-null    datetime64[ns, Asia/Kolkata]\n",
      " 1   Open       300 non-null    float64                     \n",
      " 2   High       300 non-null    float64                     \n",
      " 3   Low        300 non-null    float64                     \n",
      " 4   Close      300 non-null    float64                     \n",
      " 5   Adj Close  300 non-null    float64                     \n",
      " 6   Volume     300 non-null    int64                       \n",
      "dtypes: datetime64[ns, Asia/Kolkata](1), float64(5), int64(1)\n",
      "memory usage: 16.5 KB\n"
     ]
    }
   ],
   "source": [
    "data.reset_index(inplace=True)\n",
    "data.info()"
   ]
  },
  {
   "cell_type": "code",
   "execution_count": 6,
   "id": "e6cc488b",
   "metadata": {},
   "outputs": [],
   "source": [
    "short_period = 7\n",
    "long_period = 15\n",
    "X, y = generate_features_labels(data)\n",
    "\n",
    "X_train, X_test, y_train, y_test = train_test_split(X, y, test_size=0.2, random_state=42)\n",
    "\n",
    "# Initialize and train Decision Tree Classifier\n",
    "clf = DecisionTreeClassifier()\n",
    "clf.fit(X_train, y_train)\n",
    "\n",
    "# Predictions\n",
    "y_pred_train = clf.predict(X_train)\n",
    "y_pred_test = clf.predict(X_test)\n",
    "data['classified_signal'] = np.concatenate([y_pred_train, y_pred_test])\n",
    "\n"
   ]
  },
  {
   "cell_type": "code",
   "execution_count": 7,
   "id": "74ac65bb",
   "metadata": {},
   "outputs": [
    {
     "data": {
      "application/vnd.plotly.v1+json": {
       "config": {
        "plotlyServerURL": "https://plot.ly"
       },
       "data": [
        {
         "close": [
          3502.449951171875,
          3490.949951171875,
          3478,
          3481.25,
          3470.89990234375,
          3468.14990234375,
          3467.89990234375,
          3470.449951171875,
          3465.800048828125,
          3465.60009765625,
          3466.949951171875,
          3468.050048828125,
          3467.300048828125,
          3468.25,
          3469.050048828125,
          3469.10009765625,
          3467.85009765625,
          3470.5,
          3469.199951171875,
          3469.64990234375,
          3469,
          3468.25,
          3458.64990234375,
          3455.60009765625,
          3453.64990234375,
          3456.050048828125,
          3464.64990234375,
          3460.199951171875,
          3459.800048828125,
          3450.5,
          3454.85009765625,
          3454.60009765625,
          3464.85009765625,
          3462.199951171875,
          3454.300048828125,
          3466.14990234375,
          3461.199951171875,
          3462.60009765625,
          3466.10009765625,
          3460.85009765625,
          3467.949951171875
         ],
         "high": [
          3508.75,
          3504.449951171875,
          3493.300048828125,
          3483.199951171875,
          3481.64990234375,
          3473.25,
          3469.949951171875,
          3471.10009765625,
          3470.550048828125,
          3466.550048828125,
          3468.800048828125,
          3469.800048828125,
          3468.39990234375,
          3469.89990234375,
          3471.89990234375,
          3474.050048828125,
          3472,
          3473.5,
          3471.60009765625,
          3471.300048828125,
          3470.35009765625,
          3470.5,
          3471.300048828125,
          3458.949951171875,
          3456,
          3457.550048828125,
          3465.199951171875,
          3464.85009765625,
          3462.35009765625,
          3460.10009765625,
          3455.60009765625,
          3455,
          3469.39990234375,
          3465.550048828125,
          3462.10009765625,
          3468,
          3466.64990234375,
          3464.75,
          3467.449951171875,
          3468.75,
          3468
         ],
         "low": [
          3489.949951171875,
          3487.199951171875,
          3478,
          3477.550048828125,
          3468,
          3466.10009765625,
          3463.39990234375,
          3467,
          3464,
          3460,
          3463,
          3466,
          3465.5,
          3466,
          3466,
          3468.60009765625,
          3467.75,
          3467.75,
          3468.85009765625,
          3467.75,
          3468.5,
          3467.10009765625,
          3458.050048828125,
          3455,
          3450.050048828125,
          3452.199951171875,
          3455,
          3459.5,
          3457.800048828125,
          3450,
          3449.5,
          3450.39990234375,
          3453.800048828125,
          3460.050048828125,
          3452.550048828125,
          3453.550048828125,
          3458.10009765625,
          3460.85009765625,
          3461.10009765625,
          3460.75,
          3460
         ],
         "open": [
          3489.949951171875,
          3501.300048828125,
          3491,
          3478,
          3480.14990234375,
          3471.199951171875,
          3468.449951171875,
          3467.35009765625,
          3470.449951171875,
          3465.800048828125,
          3465.60009765625,
          3466.949951171875,
          3468.050048828125,
          3467.300048828125,
          3468.25,
          3469.050048828125,
          3469.14990234375,
          3467.75,
          3470.300048828125,
          3469.199951171875,
          3469.550048828125,
          3469.14990234375,
          3468.25,
          3458.300048828125,
          3455.60009765625,
          3453.550048828125,
          3456.10009765625,
          3464.64990234375,
          3460,
          3460.10009765625,
          3450,
          3454.050048828125,
          3453.800048828125,
          3465,
          3462.10009765625,
          3454.300048828125,
          3465.39990234375,
          3461.199951171875,
          3462.050048828125,
          3466,
          3460.85009765625
         ],
         "type": "candlestick",
         "x": [
          "2024-05-06T12:05:00+05:30",
          "2024-05-06T12:10:00+05:30",
          "2024-05-06T12:15:00+05:30",
          "2024-05-06T12:20:00+05:30",
          "2024-05-06T12:25:00+05:30",
          "2024-05-06T12:30:00+05:30",
          "2024-05-06T12:35:00+05:30",
          "2024-05-06T12:40:00+05:30",
          "2024-05-06T12:45:00+05:30",
          "2024-05-06T12:50:00+05:30",
          "2024-05-06T12:55:00+05:30",
          "2024-05-06T13:00:00+05:30",
          "2024-05-06T13:05:00+05:30",
          "2024-05-06T13:10:00+05:30",
          "2024-05-06T13:15:00+05:30",
          "2024-05-06T13:20:00+05:30",
          "2024-05-06T13:25:00+05:30",
          "2024-05-06T13:30:00+05:30",
          "2024-05-06T13:35:00+05:30",
          "2024-05-06T13:40:00+05:30",
          "2024-05-06T13:45:00+05:30",
          "2024-05-06T13:50:00+05:30",
          "2024-05-06T13:55:00+05:30",
          "2024-05-06T14:00:00+05:30",
          "2024-05-06T14:05:00+05:30",
          "2024-05-06T14:10:00+05:30",
          "2024-05-06T14:15:00+05:30",
          "2024-05-06T14:20:00+05:30",
          "2024-05-06T14:25:00+05:30",
          "2024-05-06T14:30:00+05:30",
          "2024-05-06T14:35:00+05:30",
          "2024-05-06T14:40:00+05:30",
          "2024-05-06T14:45:00+05:30",
          "2024-05-06T14:50:00+05:30",
          "2024-05-06T14:55:00+05:30",
          "2024-05-06T15:00:00+05:30",
          "2024-05-06T15:05:00+05:30",
          "2024-05-06T15:10:00+05:30",
          "2024-05-06T15:15:00+05:30",
          "2024-05-06T15:20:00+05:30",
          "2024-05-06T15:25:00+05:30"
         ]
        }
       ],
       "layout": {
        "template": {
         "data": {
          "bar": [
           {
            "error_x": {
             "color": "#2a3f5f"
            },
            "error_y": {
             "color": "#2a3f5f"
            },
            "marker": {
             "line": {
              "color": "#E5ECF6",
              "width": 0.5
             },
             "pattern": {
              "fillmode": "overlay",
              "size": 10,
              "solidity": 0.2
             }
            },
            "type": "bar"
           }
          ],
          "barpolar": [
           {
            "marker": {
             "line": {
              "color": "#E5ECF6",
              "width": 0.5
             },
             "pattern": {
              "fillmode": "overlay",
              "size": 10,
              "solidity": 0.2
             }
            },
            "type": "barpolar"
           }
          ],
          "carpet": [
           {
            "aaxis": {
             "endlinecolor": "#2a3f5f",
             "gridcolor": "white",
             "linecolor": "white",
             "minorgridcolor": "white",
             "startlinecolor": "#2a3f5f"
            },
            "baxis": {
             "endlinecolor": "#2a3f5f",
             "gridcolor": "white",
             "linecolor": "white",
             "minorgridcolor": "white",
             "startlinecolor": "#2a3f5f"
            },
            "type": "carpet"
           }
          ],
          "choropleth": [
           {
            "colorbar": {
             "outlinewidth": 0,
             "ticks": ""
            },
            "type": "choropleth"
           }
          ],
          "contour": [
           {
            "colorbar": {
             "outlinewidth": 0,
             "ticks": ""
            },
            "colorscale": [
             [
              0,
              "#0d0887"
             ],
             [
              0.1111111111111111,
              "#46039f"
             ],
             [
              0.2222222222222222,
              "#7201a8"
             ],
             [
              0.3333333333333333,
              "#9c179e"
             ],
             [
              0.4444444444444444,
              "#bd3786"
             ],
             [
              0.5555555555555556,
              "#d8576b"
             ],
             [
              0.6666666666666666,
              "#ed7953"
             ],
             [
              0.7777777777777778,
              "#fb9f3a"
             ],
             [
              0.8888888888888888,
              "#fdca26"
             ],
             [
              1,
              "#f0f921"
             ]
            ],
            "type": "contour"
           }
          ],
          "contourcarpet": [
           {
            "colorbar": {
             "outlinewidth": 0,
             "ticks": ""
            },
            "type": "contourcarpet"
           }
          ],
          "heatmap": [
           {
            "colorbar": {
             "outlinewidth": 0,
             "ticks": ""
            },
            "colorscale": [
             [
              0,
              "#0d0887"
             ],
             [
              0.1111111111111111,
              "#46039f"
             ],
             [
              0.2222222222222222,
              "#7201a8"
             ],
             [
              0.3333333333333333,
              "#9c179e"
             ],
             [
              0.4444444444444444,
              "#bd3786"
             ],
             [
              0.5555555555555556,
              "#d8576b"
             ],
             [
              0.6666666666666666,
              "#ed7953"
             ],
             [
              0.7777777777777778,
              "#fb9f3a"
             ],
             [
              0.8888888888888888,
              "#fdca26"
             ],
             [
              1,
              "#f0f921"
             ]
            ],
            "type": "heatmap"
           }
          ],
          "heatmapgl": [
           {
            "colorbar": {
             "outlinewidth": 0,
             "ticks": ""
            },
            "colorscale": [
             [
              0,
              "#0d0887"
             ],
             [
              0.1111111111111111,
              "#46039f"
             ],
             [
              0.2222222222222222,
              "#7201a8"
             ],
             [
              0.3333333333333333,
              "#9c179e"
             ],
             [
              0.4444444444444444,
              "#bd3786"
             ],
             [
              0.5555555555555556,
              "#d8576b"
             ],
             [
              0.6666666666666666,
              "#ed7953"
             ],
             [
              0.7777777777777778,
              "#fb9f3a"
             ],
             [
              0.8888888888888888,
              "#fdca26"
             ],
             [
              1,
              "#f0f921"
             ]
            ],
            "type": "heatmapgl"
           }
          ],
          "histogram": [
           {
            "marker": {
             "pattern": {
              "fillmode": "overlay",
              "size": 10,
              "solidity": 0.2
             }
            },
            "type": "histogram"
           }
          ],
          "histogram2d": [
           {
            "colorbar": {
             "outlinewidth": 0,
             "ticks": ""
            },
            "colorscale": [
             [
              0,
              "#0d0887"
             ],
             [
              0.1111111111111111,
              "#46039f"
             ],
             [
              0.2222222222222222,
              "#7201a8"
             ],
             [
              0.3333333333333333,
              "#9c179e"
             ],
             [
              0.4444444444444444,
              "#bd3786"
             ],
             [
              0.5555555555555556,
              "#d8576b"
             ],
             [
              0.6666666666666666,
              "#ed7953"
             ],
             [
              0.7777777777777778,
              "#fb9f3a"
             ],
             [
              0.8888888888888888,
              "#fdca26"
             ],
             [
              1,
              "#f0f921"
             ]
            ],
            "type": "histogram2d"
           }
          ],
          "histogram2dcontour": [
           {
            "colorbar": {
             "outlinewidth": 0,
             "ticks": ""
            },
            "colorscale": [
             [
              0,
              "#0d0887"
             ],
             [
              0.1111111111111111,
              "#46039f"
             ],
             [
              0.2222222222222222,
              "#7201a8"
             ],
             [
              0.3333333333333333,
              "#9c179e"
             ],
             [
              0.4444444444444444,
              "#bd3786"
             ],
             [
              0.5555555555555556,
              "#d8576b"
             ],
             [
              0.6666666666666666,
              "#ed7953"
             ],
             [
              0.7777777777777778,
              "#fb9f3a"
             ],
             [
              0.8888888888888888,
              "#fdca26"
             ],
             [
              1,
              "#f0f921"
             ]
            ],
            "type": "histogram2dcontour"
           }
          ],
          "mesh3d": [
           {
            "colorbar": {
             "outlinewidth": 0,
             "ticks": ""
            },
            "type": "mesh3d"
           }
          ],
          "parcoords": [
           {
            "line": {
             "colorbar": {
              "outlinewidth": 0,
              "ticks": ""
             }
            },
            "type": "parcoords"
           }
          ],
          "pie": [
           {
            "automargin": true,
            "type": "pie"
           }
          ],
          "scatter": [
           {
            "fillpattern": {
             "fillmode": "overlay",
             "size": 10,
             "solidity": 0.2
            },
            "type": "scatter"
           }
          ],
          "scatter3d": [
           {
            "line": {
             "colorbar": {
              "outlinewidth": 0,
              "ticks": ""
             }
            },
            "marker": {
             "colorbar": {
              "outlinewidth": 0,
              "ticks": ""
             }
            },
            "type": "scatter3d"
           }
          ],
          "scattercarpet": [
           {
            "marker": {
             "colorbar": {
              "outlinewidth": 0,
              "ticks": ""
             }
            },
            "type": "scattercarpet"
           }
          ],
          "scattergeo": [
           {
            "marker": {
             "colorbar": {
              "outlinewidth": 0,
              "ticks": ""
             }
            },
            "type": "scattergeo"
           }
          ],
          "scattergl": [
           {
            "marker": {
             "colorbar": {
              "outlinewidth": 0,
              "ticks": ""
             }
            },
            "type": "scattergl"
           }
          ],
          "scattermapbox": [
           {
            "marker": {
             "colorbar": {
              "outlinewidth": 0,
              "ticks": ""
             }
            },
            "type": "scattermapbox"
           }
          ],
          "scatterpolar": [
           {
            "marker": {
             "colorbar": {
              "outlinewidth": 0,
              "ticks": ""
             }
            },
            "type": "scatterpolar"
           }
          ],
          "scatterpolargl": [
           {
            "marker": {
             "colorbar": {
              "outlinewidth": 0,
              "ticks": ""
             }
            },
            "type": "scatterpolargl"
           }
          ],
          "scatterternary": [
           {
            "marker": {
             "colorbar": {
              "outlinewidth": 0,
              "ticks": ""
             }
            },
            "type": "scatterternary"
           }
          ],
          "surface": [
           {
            "colorbar": {
             "outlinewidth": 0,
             "ticks": ""
            },
            "colorscale": [
             [
              0,
              "#0d0887"
             ],
             [
              0.1111111111111111,
              "#46039f"
             ],
             [
              0.2222222222222222,
              "#7201a8"
             ],
             [
              0.3333333333333333,
              "#9c179e"
             ],
             [
              0.4444444444444444,
              "#bd3786"
             ],
             [
              0.5555555555555556,
              "#d8576b"
             ],
             [
              0.6666666666666666,
              "#ed7953"
             ],
             [
              0.7777777777777778,
              "#fb9f3a"
             ],
             [
              0.8888888888888888,
              "#fdca26"
             ],
             [
              1,
              "#f0f921"
             ]
            ],
            "type": "surface"
           }
          ],
          "table": [
           {
            "cells": {
             "fill": {
              "color": "#EBF0F8"
             },
             "line": {
              "color": "white"
             }
            },
            "header": {
             "fill": {
              "color": "#C8D4E3"
             },
             "line": {
              "color": "white"
             }
            },
            "type": "table"
           }
          ]
         },
         "layout": {
          "annotationdefaults": {
           "arrowcolor": "#2a3f5f",
           "arrowhead": 0,
           "arrowwidth": 1
          },
          "autotypenumbers": "strict",
          "coloraxis": {
           "colorbar": {
            "outlinewidth": 0,
            "ticks": ""
           }
          },
          "colorscale": {
           "diverging": [
            [
             0,
             "#8e0152"
            ],
            [
             0.1,
             "#c51b7d"
            ],
            [
             0.2,
             "#de77ae"
            ],
            [
             0.3,
             "#f1b6da"
            ],
            [
             0.4,
             "#fde0ef"
            ],
            [
             0.5,
             "#f7f7f7"
            ],
            [
             0.6,
             "#e6f5d0"
            ],
            [
             0.7,
             "#b8e186"
            ],
            [
             0.8,
             "#7fbc41"
            ],
            [
             0.9,
             "#4d9221"
            ],
            [
             1,
             "#276419"
            ]
           ],
           "sequential": [
            [
             0,
             "#0d0887"
            ],
            [
             0.1111111111111111,
             "#46039f"
            ],
            [
             0.2222222222222222,
             "#7201a8"
            ],
            [
             0.3333333333333333,
             "#9c179e"
            ],
            [
             0.4444444444444444,
             "#bd3786"
            ],
            [
             0.5555555555555556,
             "#d8576b"
            ],
            [
             0.6666666666666666,
             "#ed7953"
            ],
            [
             0.7777777777777778,
             "#fb9f3a"
            ],
            [
             0.8888888888888888,
             "#fdca26"
            ],
            [
             1,
             "#f0f921"
            ]
           ],
           "sequentialminus": [
            [
             0,
             "#0d0887"
            ],
            [
             0.1111111111111111,
             "#46039f"
            ],
            [
             0.2222222222222222,
             "#7201a8"
            ],
            [
             0.3333333333333333,
             "#9c179e"
            ],
            [
             0.4444444444444444,
             "#bd3786"
            ],
            [
             0.5555555555555556,
             "#d8576b"
            ],
            [
             0.6666666666666666,
             "#ed7953"
            ],
            [
             0.7777777777777778,
             "#fb9f3a"
            ],
            [
             0.8888888888888888,
             "#fdca26"
            ],
            [
             1,
             "#f0f921"
            ]
           ]
          },
          "colorway": [
           "#636efa",
           "#EF553B",
           "#00cc96",
           "#ab63fa",
           "#FFA15A",
           "#19d3f3",
           "#FF6692",
           "#B6E880",
           "#FF97FF",
           "#FECB52"
          ],
          "font": {
           "color": "#2a3f5f"
          },
          "geo": {
           "bgcolor": "white",
           "lakecolor": "white",
           "landcolor": "#E5ECF6",
           "showlakes": true,
           "showland": true,
           "subunitcolor": "white"
          },
          "hoverlabel": {
           "align": "left"
          },
          "hovermode": "closest",
          "mapbox": {
           "style": "light"
          },
          "paper_bgcolor": "white",
          "plot_bgcolor": "#E5ECF6",
          "polar": {
           "angularaxis": {
            "gridcolor": "white",
            "linecolor": "white",
            "ticks": ""
           },
           "bgcolor": "#E5ECF6",
           "radialaxis": {
            "gridcolor": "white",
            "linecolor": "white",
            "ticks": ""
           }
          },
          "scene": {
           "xaxis": {
            "backgroundcolor": "#E5ECF6",
            "gridcolor": "white",
            "gridwidth": 2,
            "linecolor": "white",
            "showbackground": true,
            "ticks": "",
            "zerolinecolor": "white"
           },
           "yaxis": {
            "backgroundcolor": "#E5ECF6",
            "gridcolor": "white",
            "gridwidth": 2,
            "linecolor": "white",
            "showbackground": true,
            "ticks": "",
            "zerolinecolor": "white"
           },
           "zaxis": {
            "backgroundcolor": "#E5ECF6",
            "gridcolor": "white",
            "gridwidth": 2,
            "linecolor": "white",
            "showbackground": true,
            "ticks": "",
            "zerolinecolor": "white"
           }
          },
          "shapedefaults": {
           "line": {
            "color": "#2a3f5f"
           }
          },
          "ternary": {
           "aaxis": {
            "gridcolor": "white",
            "linecolor": "white",
            "ticks": ""
           },
           "baxis": {
            "gridcolor": "white",
            "linecolor": "white",
            "ticks": ""
           },
           "bgcolor": "#E5ECF6",
           "caxis": {
            "gridcolor": "white",
            "linecolor": "white",
            "ticks": ""
           }
          },
          "title": {
           "x": 0.05
          },
          "xaxis": {
           "automargin": true,
           "gridcolor": "white",
           "linecolor": "white",
           "ticks": "",
           "title": {
            "standoff": 15
           },
           "zerolinecolor": "white",
           "zerolinewidth": 2
          },
          "yaxis": {
           "automargin": true,
           "gridcolor": "white",
           "linecolor": "white",
           "ticks": "",
           "title": {
            "standoff": 15
           },
           "zerolinecolor": "white",
           "zerolinewidth": 2
          }
         }
        }
       }
      }
     },
     "metadata": {},
     "output_type": "display_data"
    }
   ],
   "source": [
    "import plotly.graph_objects as go\n",
    "\n",
    "# Specify the date you want to visualize\n",
    "desired_date = '2024-05-06'  # Change this to the date you're interested in\n",
    "\n",
    "# Filter data for the desired date\n",
    "data_one_day = data[data['Datetime'].dt.date == pd.to_datetime(desired_date).date()]\n",
    "\n",
    "# Plot candlestick chart for one day\n",
    "fig = go.Figure(data=[go.Candlestick(x=data_one_day['Datetime'],\n",
    "                open=data_one_day['Open'],\n",
    "                high=data_one_day['High'],\n",
    "                low=data_one_day['Low'],\n",
    "                close=data_one_day['Close'])])\n",
    "\n",
    "\n",
    "fig.show()\n",
    "\n"
   ]
  },
  {
   "cell_type": "code",
   "execution_count": 8,
   "id": "020d9dc3",
   "metadata": {},
   "outputs": [],
   "source": [
    "# Assuming 'data' is your DataFrame containing datetime, stock price, and classified signal columns\n",
    "\n",
    "# Select columns containing datetime, stock price, and classified signal\n",
    "selected_columns = ['Datetime', 'Close','signal']\n",
    "\n",
    "# Create a new DataFrame with only the selected columns\n",
    "final_data = data[selected_columns]\n",
    "\n",
    "# Save the final data to a CSV file\n",
    "final_data.to_csv('L&T_6_may_10may.csv', index=False)\n"
   ]
  },
  {
   "cell_type": "code",
   "execution_count": 12,
   "id": "95c0d63a",
   "metadata": {},
   "outputs": [
    {
     "data": {
      "image/png": "[encoded data removed]",
      "text/plain": [
       "<Figure size 600x400 with 1 Axes>"
      ]
     },
     "metadata": {},
     "output_type": "display_data"
    }
   ],
   "source": [
    "import matplotlib.pyplot as plt\n",
    "import seaborn as sns\n",
    "from sklearn.metrics import confusion_matrix\n",
    "\n",
    "# Assuming y_test and y_pred_test are already defined\n",
    "# Example:\n",
    "# y_test = [actual labels]\n",
    "# y_pred_test = [predicted labels]\n",
    "\n",
    "# Calculate the confusion matrix\n",
    "conf_matrix = confusion_matrix(y_test, y_pred_test)\n",
    "\n",
    "# Plot the confusion matrix\n",
    "plt.figure(figsize=(6, 4))\n",
    "sns.heatmap(conf_matrix, annot=True, fmt='d', cmap='Blues', cbar=False)\n",
    "plt.xlabel('Predicted Labels')\n",
    "plt.ylabel('True Labels')\n",
    "plt.title('Confusion Matrix')\n",
    "plt.show()\n"
   ]
  },
  {
   "cell_type": "code",
   "execution_count": 13,
   "id": "8f618021",
   "metadata": {},
   "outputs": [
    {
     "name": "stdout",
     "output_type": "stream",
     "text": [
      "Confusion Matrix:\n",
      "[[ 3  0  0]\n",
      " [ 0 44  0]\n",
      " [ 0  0  7]]\n"
     ]
    }
   ],
   "source": [
    "from sklearn.metrics import confusion_matrix\n",
    "import numpy as np\n",
    "conf_matrix = confusion_matrix(y_test, y_pred_test)\n",
    "\n",
    "# Print the confusion matrix\n",
    "print(\"Confusion Matrix:\")\n",
    "print(conf_matrix)"
   ]
  },
  {
   "cell_type": "code",
   "execution_count": null,
   "id": "6a65d19e",
   "metadata": {},
   "outputs": [],
   "source": []
  }
 ],
 "metadata": {
  "kernelspec": {
   "display_name": "Python 3 (ipykernel)",
   "language": "python",
   "name": "python3"
  },
  "language_info": {
   "codemirror_mode": {
    "name": "ipython",
    "version": 3
   },
   "file_extension": ".py",
   "mimetype": "text/x-python",
   "name": "python",
   "nbconvert_exporter": "python",
   "pygments_lexer": "ipython3",
   "version": "3.12.1"
  }
 },
 "nbformat": 4,
 "nbformat_minor": 5
}
