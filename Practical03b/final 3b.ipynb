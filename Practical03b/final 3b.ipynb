{
 "cells": [
  {
   "cell_type": "code",
   "execution_count": 1,
   "id": "9a1b8393",
   "metadata": {},
   "outputs": [],
   "source": [
    "import numpy as np\n",
    "import matplotlib.pyplot as plt\n",
    "from tensorflow.keras.datasets import fashion_mnist\n",
    "from tensorflow.keras.models import Sequential\n",
    "from tensorflow.keras.layers import Conv2D, MaxPooling2D, Flatten, Dense\n",
    "from tensorflow.keras.utils import to_categorical\n",
    "from tensorflow.keras.preprocessing.image import load_img, img_to_array\n",
    "import cv2\n",
    "import tkinter as tk\n",
    "from tkinter import filedialog\n",
    "import time\n",
    "\n"
   ]
  },
  {
   "cell_type": "code",
   "execution_count": 2,
   "id": "ce49c5f2",
   "metadata": {},
   "outputs": [],
   "source": [
    "# Define class labels\n",
    "class_labels = ['T-shirt/top', 'Trouser', 'Pullover', 'Dress', 'Coat',\n",
    "                'Sandal', 'Shirt', 'Sneaker', 'Bag', 'Ankle boot']\n",
    "\n"
   ]
  },
  {
   "cell_type": "code",
   "execution_count": 3,
   "id": "ebec9b3b",
   "metadata": {},
   "outputs": [],
   "source": [
    "# Load the Fashion MNIST dataset\n",
    "(train_images, train_labels), (test_images, test_labels) = fashion_mnist.load_data()\n",
    "# Preprocess the data\n",
    "train_images = train_images.reshape((train_images.shape[0], 28, 28, 1)).astype('float32') / 255\n",
    "test_images = test_images.reshape((test_images.shape[0], 28, 28, 1)).astype('float32') / 255\n",
    "train_labels = to_categorical(train_labels)\n",
    "test_labels = to_categorical(test_labels)\n",
    "\n"
   ]
  },
  {
   "cell_type": "code",
   "execution_count": 4,
   "id": "68c41737",
   "metadata": {},
   "outputs": [],
   "source": [
    "# Define the CNN model\n",
    "model = Sequential([\n",
    "    Conv2D(32, (3, 3), activation='relu', input_shape=(28, 28, 1)),\n",
    "    MaxPooling2D((2, 2)),\n",
    "    Conv2D(64, (3, 3), activation='relu'),\n",
    "    MaxPooling2D((2, 2)),\n",
    "    Conv2D(64, (3, 3), activation='relu'),\n",
    "    Flatten(),\n",
    "    Dense(64, activation='relu'),\n",
    "    Dense(10, activation='softmax')\n",
    "])\n",
    "\n"
   ]
  },
  {
   "cell_type": "code",
   "execution_count": 5,
   "id": "d850a3ea",
   "metadata": {},
   "outputs": [],
   "source": [
    "# Compile the model\n",
    "model.compile(optimizer='adam',\n",
    "              loss='categorical_crossentropy',\n",
    "              metrics=['accuracy'])\n",
    "\n"
   ]
  },
  {
   "cell_type": "code",
   "execution_count": 6,
   "id": "941893f6",
   "metadata": {},
   "outputs": [
    {
     "name": "stdout",
     "output_type": "stream",
     "text": [
      "Epoch 1/15\n",
      "750/750 [==============================] - 46s 58ms/step - loss: 0.5915 - accuracy: 0.7828 - val_loss: 0.3963 - val_accuracy: 0.8550\n",
      "Epoch 2/15\n",
      "750/750 [==============================] - 42s 56ms/step - loss: 0.3652 - accuracy: 0.8669 - val_loss: 0.3410 - val_accuracy: 0.8751\n",
      "Epoch 3/15\n",
      "750/750 [==============================] - 43s 57ms/step - loss: 0.3144 - accuracy: 0.8854 - val_loss: 0.3147 - val_accuracy: 0.8855\n",
      "Epoch 4/15\n",
      "750/750 [==============================] - 41s 54ms/step - loss: 0.2857 - accuracy: 0.8952 - val_loss: 0.2887 - val_accuracy: 0.8937\n",
      "Epoch 5/15\n",
      "750/750 [==============================] - 41s 55ms/step - loss: 0.2612 - accuracy: 0.9031 - val_loss: 0.3048 - val_accuracy: 0.8873\n",
      "Epoch 6/15\n",
      "750/750 [==============================] - 46s 61ms/step - loss: 0.2399 - accuracy: 0.9114 - val_loss: 0.2708 - val_accuracy: 0.9028\n",
      "Epoch 7/15\n",
      "750/750 [==============================] - 50s 67ms/step - loss: 0.2233 - accuracy: 0.9176 - val_loss: 0.2652 - val_accuracy: 0.9053\n",
      "Epoch 8/15\n",
      "750/750 [==============================] - 48s 64ms/step - loss: 0.2035 - accuracy: 0.9249 - val_loss: 0.2603 - val_accuracy: 0.9066\n",
      "Epoch 9/15\n",
      "750/750 [==============================] - 49s 65ms/step - loss: 0.1895 - accuracy: 0.9303 - val_loss: 0.2655 - val_accuracy: 0.9062\n",
      "Epoch 10/15\n",
      "750/750 [==============================] - 48s 64ms/step - loss: 0.1747 - accuracy: 0.9353 - val_loss: 0.2581 - val_accuracy: 0.9066\n",
      "Epoch 11/15\n",
      "750/750 [==============================] - 48s 63ms/step - loss: 0.1635 - accuracy: 0.9395 - val_loss: 0.2583 - val_accuracy: 0.9105\n",
      "Epoch 12/15\n",
      "750/750 [==============================] - 48s 65ms/step - loss: 0.1506 - accuracy: 0.9444 - val_loss: 0.2923 - val_accuracy: 0.8997\n",
      "Epoch 13/15\n",
      "750/750 [==============================] - 54s 72ms/step - loss: 0.1378 - accuracy: 0.9489 - val_loss: 0.2946 - val_accuracy: 0.9026\n",
      "Epoch 14/15\n",
      "672/750 [=========================>....] - ETA: 5s - loss: 0.1269 - accuracy: 0.9520"
     ]
    }
   ],
   "source": [
    "# Train the model\n",
    "start_time = time.time()\n",
    "model.fit(train_images, train_labels, epochs=15, batch_size=64, validation_split=0.2)\n",
    "train_time = time.time() - start_time\n",
    "print(\"Training time: \", train_time)\n",
    "\n",
    "\n"
   ]
  },
  {
   "cell_type": "code",
   "execution_count": 7,
   "id": "1d9a8fc6",
   "metadata": {},
   "outputs": [],
   "source": [
    "def preprocess_and_predict_image(image_path):\n",
    "    # Read and preprocess the image\n",
    "    img = preprocess_image(image_path)\n",
    "    # Predict the class and measure prediction time\n",
    "    start_time = time.time()\n",
    "    predictions = model.predict(img)\n",
    "    pred_time = time.time() - start_time\n",
    "    predicted_class_index = np.argmax(predictions)\n",
    "    predicted_class = class_labels[predicted_class_index]  # Get the class name from class_labels\n",
    "    return predicted_class, pred_time\n",
    "\n",
    "\n",
    "def preprocess_image(image_path):\n",
    "    # Load the image from the file path\n",
    "    img = load_img(image_path, target_size=(28, 28), color_mode=\"grayscale\")\n",
    "    # Convert the image to a NumPy array\n",
    "    img_array = img_to_array(img)\n",
    "    # Invert the grayscale values (black -> white, white -> black)\n",
    "    img_array = 255 - img_array\n",
    "    # Reshape the image array to add a dimension for the color channel (even though it's grayscale)\n",
    "    img_array = img_array.reshape((1, 28, 28, 1))\n",
    "    # Normalize the pixel values to be between 0 and 1\n",
    "    return img_array / 255.0\n",
    "\n",
    "\n",
    "def browse_image():\n",
    "    file_path = filedialog.askopenfilename()\n",
    "    if file_path:\n",
    "        predicted_class, pred_time = preprocess_and_predict_image(file_path)\n",
    "        result_label.config(text=f\"Predicted Class: {predicted_class}\\nPrediction Time: {pred_time:.4f} seconds\")\n",
    "\n",
    "\n"
   ]
  },
  {
   "cell_type": "code",
   "execution_count": 8,
   "id": "cece2676",
   "metadata": {},
   "outputs": [],
   "source": [
    "# Create a Tkinter window\n",
    "root = tk.Tk()\n",
    "root.title(\"Fashion MNIST Image Classifier\")\n",
    "\n",
    "# Create a button to browse the image\n",
    "browse_button = tk.Button(root, text=\"Browse Image\", command=browse_image)\n",
    "browse_button.pack(pady=10)\n",
    "\n",
    "# Label to display the predicted class\n",
    "result_label = tk.Label(root, text=\"\")\n",
    "result_label.pack(pady=5)\n",
    "\n",
    "# Start the Tkinter event loop\n",
    "root.mainloop()\n"
   ]
  },
  {
   "cell_type": "code",
   "execution_count": null,
   "id": "e3e8d613",
   "metadata": {},
   "outputs": [],
   "source": []
  }
 ],
 "metadata": {
  "kernelspec": {
   "display_name": "Python 3 (ipykernel)",
   "language": "python",
   "name": "python3"
  },
  "language_info": {
   "codemirror_mode": {
    "name": "ipython",
    "version": 3
   },
   "file_extension": ".py",
   "mimetype": "text/x-python",
   "name": "python",
   "nbconvert_exporter": "python",
   "pygments_lexer": "ipython3",
   "version": "3.10.7"
  }
 },
 "nbformat": 4,
 "nbformat_minor": 5
}
