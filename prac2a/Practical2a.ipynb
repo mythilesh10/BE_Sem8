{
 "cells": [
  {
   "cell_type": "code",
   "execution_count": 1,
   "id": "514800f9",
   "metadata": {},
   "outputs": [],
   "source": [
    "import tensorflow as tf\n",
    "from keras.models import Sequential\n",
    "from keras.layers import Dense\n",
    "from sklearn.model_selection import train_test_split\n",
    "from sklearn.preprocessing import LabelEncoder\n",
    "import pandas as pd\n",
    "import numpy as np\n",
    "import time\n",
    "\n"
   ]
  },
  {
   "cell_type": "markdown",
   "id": "de794087",
   "metadata": {},
   "source": [
    "# Variable Name\tRole\tType\tDescription\tUnits\tMissing Values\n",
    "## lettr\t\n",
    "### x-box\thorizontal position of box\n",
    "### y-box\tvertical position of box\n",
    "### width\twidth of box\n",
    "### high\theight of box\n",
    "### onpix\ttotal # on pixels\t\n",
    "### x-bar\tmean x of on pixels in box\n",
    "### y-bar\tmean y of on pixels in box\n",
    "### x2bar\tmean x variance\t\n",
    "### y2bar\tmean y variance\t\n",
    "These features describe characteristics of a letter represented in a 16x16 grid, where each feature provides information about a specific aspect of the letter's shape and position within the grid."
   ]
  },
  {
   "cell_type": "code",
   "execution_count": 2,
   "id": "ef54d75f",
   "metadata": {},
   "outputs": [],
   "source": [
    "# Loading Dataset\n",
    "data_path = 'letter-recognition.data'\n",
    "columns = ['letter'] + [f'feature_{i}' for i in range(16)]\n",
    "df = pd.read_csv(data_path, names=columns)\n",
    "\n"
   ]
  },
  {
   "cell_type": "code",
   "execution_count": 3,
   "id": "dad4d870",
   "metadata": {},
   "outputs": [],
   "source": [
    "label_encoder = LabelEncoder()\n",
    "df['target'] = label_encoder.fit_transform(df['letter'])\n",
    "X = df.drop(['letter', 'target'], axis=1)\n",
    "y = df['target']\n",
    "\n"
   ]
  },
  {
   "cell_type": "code",
   "execution_count": 4,
   "id": "dae1aca6",
   "metadata": {},
   "outputs": [],
   "source": [
    "# Split the dataset\n",
    "X_train, X_test, y_train, y_test = train_test_split(X, y, test_size=0.2, random_state=42)\n",
    "\n"
   ]
  },
  {
   "cell_type": "code",
   "execution_count": 5,
   "id": "4bb942c5",
   "metadata": {},
   "outputs": [],
   "source": [
    "# Model Fitting\n",
    "start_time = time.time()\n",
    "\n",
    "model = Sequential()\n",
    "model.add(Dense(128, activation='relu', input_shape=(16,)))\n",
    "model.add(Dense(64, activation='relu'))\n",
    "model.add(Dense(26, activation='softmax'))\n",
    "\n"
   ]
  },
  {
   "cell_type": "code",
   "execution_count": 6,
   "id": "c0dfd3cc",
   "metadata": {},
   "outputs": [
    {
     "name": "stdout",
     "output_type": "stream",
     "text": [
      "Epoch 1/10\n",
      "500/500 [==============================] - 20s 19ms/step - loss: 1.6580 - accuracy: 0.5371 - val_loss: 1.0303 - val_accuracy: 0.7170\n",
      "Epoch 2/10\n",
      "500/500 [==============================] - 7s 14ms/step - loss: 0.9292 - accuracy: 0.7358 - val_loss: 0.7863 - val_accuracy: 0.7925\n",
      "Epoch 3/10\n",
      "500/500 [==============================] - 6s 13ms/step - loss: 0.7596 - accuracy: 0.7793 - val_loss: 0.6963 - val_accuracy: 0.7983\n",
      "Epoch 4/10\n",
      "500/500 [==============================] - 7s 13ms/step - loss: 0.6508 - accuracy: 0.8082 - val_loss: 0.5964 - val_accuracy: 0.8227\n",
      "Epoch 5/10\n",
      "500/500 [==============================] - 7s 13ms/step - loss: 0.5653 - accuracy: 0.8304 - val_loss: 0.5092 - val_accuracy: 0.8520\n",
      "Epoch 6/10\n",
      "500/500 [==============================] - 7s 13ms/step - loss: 0.5030 - accuracy: 0.8453 - val_loss: 0.4521 - val_accuracy: 0.8652\n",
      "Epoch 7/10\n",
      "500/500 [==============================] - 7s 14ms/step - loss: 0.4432 - accuracy: 0.8618 - val_loss: 0.4611 - val_accuracy: 0.8497\n",
      "Epoch 8/10\n",
      "500/500 [==============================] - 7s 14ms/step - loss: 0.4012 - accuracy: 0.8746 - val_loss: 0.4047 - val_accuracy: 0.8717\n",
      "Epoch 9/10\n",
      "500/500 [==============================] - 7s 15ms/step - loss: 0.3614 - accuracy: 0.8906 - val_loss: 0.3624 - val_accuracy: 0.8905\n",
      "Epoch 10/10\n",
      "500/500 [==============================] - 7s 14ms/step - loss: 0.3367 - accuracy: 0.8965 - val_loss: 0.3599 - val_accuracy: 0.8915\n",
      "125/125 [==============================] - 2s 10ms/step - loss: 0.3599 - accuracy: 0.8915\n",
      "Test Accuracy: 0.8914999961853027\n"
     ]
    }
   ],
   "source": [
    "model.compile(optimizer='adam', loss='sparse_categorical_crossentropy', metrics=['accuracy'])\n",
    "\n",
    "model.fit(X_train, y_train, epochs=10, batch_size=32, validation_data=(X_test, y_test))\n",
    "\n",
    "training_time = time.time() - start_time\n",
    "\n",
    "# Evaluate the model\n",
    "start_time = time.time()\n",
    "test_loss, test_accuracy = model.evaluate(X_test, y_test)\n",
    "print(f'Test Accuracy: {test_accuracy}')\n",
    "evaluation_time = time.time() - start_time\n",
    "\n"
   ]
  },
  {
   "cell_type": "code",
   "execution_count": 7,
   "id": "6cf77c36",
   "metadata": {},
   "outputs": [
    {
     "name": "stdout",
     "output_type": "stream",
     "text": [
      "1/1 [==============================] - 2s 2s/step\n",
      "The predicted class is: 4\n"
     ]
    }
   ],
   "source": [
    "# Predicting\n",
    "new_data = np.array([4, 7, 5, 5, 4, 6, 7, 3, 7, 11, 8, 9, 3, 8, 4, 8]).reshape(1, -1)\n",
    "start_time = time.time()\n",
    "predictions = model.predict(new_data)\n",
    "predicted_class = np.argmax(predictions)\n",
    "prediction_time = time.time() - start_time\n",
    "\n",
    "print(f'The predicted class is: {predicted_class}')\n",
    "\n"
   ]
  },
  {
   "cell_type": "code",
   "execution_count": 8,
   "id": "4cee2880",
   "metadata": {},
   "outputs": [
    {
     "name": "stdout",
     "output_type": "stream",
     "text": [
      "The predicted class is: 4, which corresponds to the letter: E\n"
     ]
    }
   ],
   "source": [
    "# Display the predicted class using the mapping\n",
    "class_mapping = {\n",
    "    0: 'A', 1: 'B', 2: 'C', 3: 'D', 4: 'E', 5: 'F', 6: 'G', 7: 'H', 8: 'I', 9: 'J',\n",
    "    10: 'K', 11: 'L', 12: 'M', 13: 'N', 14: 'O', 15: 'P', 16: 'Q', 17: 'R', 18: 'S', 19: 'T',\n",
    "    20: 'U', 21: 'V', 22: 'W', 23: 'X', 24: 'Y', 25: 'Z'\n",
    "}\n",
    "\n",
    "predicted_letter = class_mapping[predicted_class]\n",
    "print(f'The predicted class is: {predicted_class}, which corresponds to the letter: {predicted_letter}')\n",
    "\n"
   ]
  },
  {
   "cell_type": "code",
   "execution_count": 9,
   "id": "b06c807a",
   "metadata": {},
   "outputs": [
    {
     "name": "stdout",
     "output_type": "stream",
     "text": [
      "Enter values for the 16 features separated by commas:  3,9,4,7,2,7,5,6,10,5,6,10,0,9,9,8\n",
      "1/1 [==============================] - 0s 203ms/step\n",
      "\n",
      "The predicted class is: 18 i.e. S\n",
      "Training Time: 84.42691326141357 seconds\n",
      "Evaluation Time: 2.1106653213500977 seconds\n",
      "Prediction Time: 0.4857769012451172 seconds\n"
     ]
    }
   ],
   "source": [
    "# Dynamic Input\n",
    "# 3,9,4,7,2,7,5,6,10,5,6,10,0,9,9,8\n",
    "#\n",
    "user_input = input(\"Enter values for the 16 features separated by commas: \")\n",
    "user_input_list = [int(x) for x in user_input.split(',')]\n",
    "new_data = np.array(user_input_list).reshape(1, -1)\n",
    "\n",
    "start_time = time.time()\n",
    "predictions = model.predict(new_data)\n",
    "predicted_class = np.argmax(predictions)\n",
    "prediction_time = time.time() - start_time\n",
    "\n",
    "print(f'\\nThe predicted class is: {predicted_class} i.e. {class_mapping[predicted_class]}')\n",
    "\n",
    "print(f\"Training Time: {training_time} seconds\")\n",
    "print(f\"Evaluation Time: {evaluation_time} seconds\")\n",
    "print(f\"Prediction Time: {prediction_time} seconds\")\n"
   ]
  },
  {
   "cell_type": "code",
   "execution_count": null,
   "id": "fdb8e144",
   "metadata": {},
   "outputs": [],
   "source": []
  },
  {
   "cell_type": "code",
   "execution_count": null,
   "id": "5efa3189",
   "metadata": {},
   "outputs": [],
   "source": []
  }
 ],
 "metadata": {
  "kernelspec": {
   "display_name": "Python 3 (ipykernel)",
   "language": "python",
   "name": "python3"
  },
  "language_info": {
   "codemirror_mode": {
    "name": "ipython",
    "version": 3
   },
   "file_extension": ".py",
   "mimetype": "text/x-python",
   "name": "python",
   "nbconvert_exporter": "python",
   "pygments_lexer": "ipython3",
   "version": "3.10.7"
  }
 },
 "nbformat": 4,
 "nbformat_minor": 5
}
