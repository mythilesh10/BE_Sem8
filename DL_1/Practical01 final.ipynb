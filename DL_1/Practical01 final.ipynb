{
 "cells": [
  {
   "cell_type": "code",
   "execution_count": 1,
   "id": "ced1ed6d",
   "metadata": {},
   "outputs": [],
   "source": [
    "import pandas as pd\n",
    "import numpy as np\n",
    "from sklearn.model_selection import train_test_split\n",
    "from sklearn.preprocessing import StandardScaler\n",
    "from keras.models import Sequential\n",
    "from keras.layers import Dense\n",
    "import time\n",
    "\n"
   ]
  },
  {
   "cell_type": "code",
   "execution_count": 2,
   "id": "abb28908",
   "metadata": {},
   "outputs": [],
   "source": [
    "# Reading the dataset\n",
    "data = pd.read_csv(\"Boston (1).csv\")\n",
    "\n"
   ]
  },
  {
   "cell_type": "code",
   "execution_count": 3,
   "id": "673f6b5c",
   "metadata": {},
   "outputs": [],
   "source": [
    "# Preprocessing the dataset\n",
    "x = data.drop('MEDV', axis=1)\n",
    "y = data['MEDV']\n",
    "x_train, x_test, y_train, y_test = train_test_split(x, y, test_size=0.2, random_state=1)\n",
    "scaler = StandardScaler()\n",
    "x_train = scaler.fit_transform(x_train)\n",
    "x_test = scaler.transform(x_test)\n",
    "\n"
   ]
  },
  {
   "cell_type": "code",
   "execution_count": 4,
   "id": "7afaf481",
   "metadata": {},
   "outputs": [
    {
     "name": "stdout",
     "output_type": "stream",
     "text": [
      "Model: \"sequential\"\n",
      "_________________________________________________________________\n",
      " Layer (type)                Output Shape              Param #   \n",
      "=================================================================\n",
      " dense_1 (Dense)             (None, 128)               1792      \n",
      "                                                                 \n",
      " dense_2 (Dense)             (None, 64)                8256      \n",
      "                                                                 \n",
      " dense_output (Dense)        (None, 1)                 65        \n",
      "                                                                 \n",
      "=================================================================\n",
      "Total params: 10,113\n",
      "Trainable params: 10,113\n",
      "Non-trainable params: 0\n",
      "_________________________________________________________________\n"
     ]
    }
   ],
   "source": [
    "# Model definition\n",
    "model = Sequential()\n",
    "model.add(Dense(128, input_shape=(13,), activation='relu', name='dense_1'))\n",
    "model.add(Dense(64, activation='relu', name='dense_2'))\n",
    "model.add(Dense(1, activation='linear', name='dense_output'))\n",
    "model.compile(optimizer='adam', loss='mse', metrics=['mae'])\n",
    "model.summary()\n",
    "\n"
   ]
  },
  {
   "cell_type": "code",
   "execution_count": 5,
   "id": "ec7649bc",
   "metadata": {},
   "outputs": [
    {
     "name": "stdout",
     "output_type": "stream",
     "text": [
      "Epoch 1/50\n"
     ]
    },
    {
     "name": "stderr",
     "output_type": "stream",
     "text": [
      "C:\\Users\\Manpreet\\AppData\\Local\\Programs\\Python\\Python310\\lib\\site-packages\\keras\\engine\\data_adapter.py:1696: FutureWarning: The behavior of `series[i:j]` with an integer-dtype index is deprecated. In a future version, this will be treated as *label-based* indexing, consistent with e.g. `series[i]` lookups. To retain the old behavior, use `series.iloc[i:j]`. To get the future behavior, use `series.loc[i:j]`.\n",
      "  return t[start:end]\n"
     ]
    },
    {
     "name": "stdout",
     "output_type": "stream",
     "text": [
      "11/11 [==============================] - 1s 27ms/step - loss: 581.0034 - mae: 22.3770 - val_loss: 522.7614 - val_mae: 20.8526\n",
      "Epoch 2/50\n",
      "11/11 [==============================] - 0s 7ms/step - loss: 519.3600 - mae: 20.9248 - val_loss: 461.9487 - val_mae: 19.3812\n",
      "Epoch 3/50\n",
      "11/11 [==============================] - 0s 6ms/step - loss: 449.7046 - mae: 19.1436 - val_loss: 386.9287 - val_mae: 17.5387\n",
      "Epoch 4/50\n",
      "11/11 [==============================] - 0s 7ms/step - loss: 361.4873 - mae: 16.8745 - val_loss: 293.6284 - val_mae: 15.0810\n",
      "Epoch 5/50\n",
      "11/11 [==============================] - 0s 7ms/step - loss: 255.9312 - mae: 13.8582 - val_loss: 190.2137 - val_mae: 11.7846\n",
      "Epoch 6/50\n",
      "11/11 [==============================] - 0s 6ms/step - loss: 149.9250 - mae: 10.3924 - val_loss: 101.9180 - val_mae: 8.4555\n",
      "Epoch 7/50\n",
      "11/11 [==============================] - 0s 7ms/step - loss: 76.4940 - mae: 7.0558 - val_loss: 60.6081 - val_mae: 6.0628\n",
      "Epoch 8/50\n",
      "11/11 [==============================] - 0s 6ms/step - loss: 50.9231 - mae: 5.5132 - val_loss: 49.0483 - val_mae: 5.0064\n",
      "Epoch 9/50\n",
      "11/11 [==============================] - 0s 7ms/step - loss: 40.8145 - mae: 4.7866 - val_loss: 40.0449 - val_mae: 4.4156\n",
      "Epoch 10/50\n",
      "11/11 [==============================] - 0s 7ms/step - loss: 31.9239 - mae: 4.1380 - val_loss: 34.0100 - val_mae: 4.0300\n",
      "Epoch 11/50\n",
      "11/11 [==============================] - 0s 7ms/step - loss: 26.4580 - mae: 3.7191 - val_loss: 31.0962 - val_mae: 3.8318\n",
      "Epoch 12/50\n",
      "11/11 [==============================] - 0s 9ms/step - loss: 24.0159 - mae: 3.5076 - val_loss: 29.3567 - val_mae: 3.6906\n",
      "Epoch 13/50\n",
      "11/11 [==============================] - 0s 7ms/step - loss: 22.1618 - mae: 3.3672 - val_loss: 27.0716 - val_mae: 3.6085\n",
      "Epoch 14/50\n",
      "11/11 [==============================] - 0s 6ms/step - loss: 20.7972 - mae: 3.3197 - val_loss: 25.7133 - val_mae: 3.6168\n",
      "Epoch 15/50\n",
      "11/11 [==============================] - 0s 6ms/step - loss: 20.0385 - mae: 3.2635 - val_loss: 24.8604 - val_mae: 3.5456\n",
      "Epoch 16/50\n",
      "11/11 [==============================] - 0s 6ms/step - loss: 19.0255 - mae: 3.1328 - val_loss: 24.2445 - val_mae: 3.4716\n",
      "Epoch 17/50\n",
      "11/11 [==============================] - 0s 6ms/step - loss: 18.2457 - mae: 3.1319 - val_loss: 23.5646 - val_mae: 3.5100\n",
      "Epoch 18/50\n",
      "11/11 [==============================] - 0s 6ms/step - loss: 18.0065 - mae: 3.0943 - val_loss: 23.0037 - val_mae: 3.4286\n",
      "Epoch 19/50\n",
      "11/11 [==============================] - 0s 7ms/step - loss: 18.0783 - mae: 3.0019 - val_loss: 24.4422 - val_mae: 3.3743\n",
      "Epoch 20/50\n",
      "11/11 [==============================] - 0s 7ms/step - loss: 17.5753 - mae: 2.9821 - val_loss: 23.4219 - val_mae: 3.3220\n",
      "Epoch 21/50\n",
      "11/11 [==============================] - 0s 7ms/step - loss: 16.5914 - mae: 2.8985 - val_loss: 22.1098 - val_mae: 3.2749\n",
      "Epoch 22/50\n",
      "11/11 [==============================] - 0s 6ms/step - loss: 15.9333 - mae: 2.8557 - val_loss: 21.4608 - val_mae: 3.2535\n",
      "Epoch 23/50\n",
      "11/11 [==============================] - 0s 5ms/step - loss: 15.5640 - mae: 2.8290 - val_loss: 21.0455 - val_mae: 3.2163\n",
      "Epoch 24/50\n",
      "11/11 [==============================] - 0s 6ms/step - loss: 15.2625 - mae: 2.7857 - val_loss: 20.8288 - val_mae: 3.1780\n",
      "Epoch 25/50\n",
      "11/11 [==============================] - 0s 6ms/step - loss: 15.0093 - mae: 2.7524 - val_loss: 20.4029 - val_mae: 3.1549\n",
      "Epoch 26/50\n",
      "11/11 [==============================] - 0s 6ms/step - loss: 14.5477 - mae: 2.7293 - val_loss: 19.9366 - val_mae: 3.1058\n",
      "Epoch 27/50\n",
      "11/11 [==============================] - 0s 6ms/step - loss: 14.4566 - mae: 2.7110 - val_loss: 20.1664 - val_mae: 3.0530\n",
      "Epoch 28/50\n",
      "11/11 [==============================] - 0s 6ms/step - loss: 14.6938 - mae: 2.7201 - val_loss: 20.8127 - val_mae: 3.0218\n",
      "Epoch 29/50\n",
      "11/11 [==============================] - 0s 6ms/step - loss: 14.3527 - mae: 2.6740 - val_loss: 19.5287 - val_mae: 3.0270\n",
      "Epoch 30/50\n",
      "11/11 [==============================] - 0s 6ms/step - loss: 14.0293 - mae: 2.6836 - val_loss: 19.1108 - val_mae: 3.0384\n",
      "Epoch 31/50\n",
      "11/11 [==============================] - 0s 7ms/step - loss: 13.7353 - mae: 2.6508 - val_loss: 19.0349 - val_mae: 2.9748\n",
      "Epoch 32/50\n",
      "11/11 [==============================] - 0s 7ms/step - loss: 13.5217 - mae: 2.6441 - val_loss: 18.7411 - val_mae: 2.9911\n",
      "Epoch 33/50\n",
      "11/11 [==============================] - 0s 7ms/step - loss: 13.0706 - mae: 2.6090 - val_loss: 18.4914 - val_mae: 2.9719\n",
      "Epoch 34/50\n",
      "11/11 [==============================] - 0s 7ms/step - loss: 12.8508 - mae: 2.5782 - val_loss: 18.3593 - val_mae: 2.9253\n",
      "Epoch 35/50\n",
      "11/11 [==============================] - 0s 6ms/step - loss: 12.6851 - mae: 2.5444 - val_loss: 18.3728 - val_mae: 2.9000\n",
      "Epoch 36/50\n",
      "11/11 [==============================] - 0s 6ms/step - loss: 12.5423 - mae: 2.5244 - val_loss: 17.9889 - val_mae: 2.8935\n",
      "Epoch 37/50\n",
      "11/11 [==============================] - 0s 7ms/step - loss: 12.2769 - mae: 2.5049 - val_loss: 17.9488 - val_mae: 2.8703\n",
      "Epoch 38/50\n",
      "11/11 [==============================] - 0s 7ms/step - loss: 12.0706 - mae: 2.4878 - val_loss: 17.8409 - val_mae: 2.8521\n",
      "Epoch 39/50\n",
      "11/11 [==============================] - 0s 7ms/step - loss: 11.9137 - mae: 2.4658 - val_loss: 17.7462 - val_mae: 2.8667\n",
      "Epoch 40/50\n",
      "11/11 [==============================] - 0s 7ms/step - loss: 11.8337 - mae: 2.4757 - val_loss: 17.4902 - val_mae: 2.8408\n",
      "Epoch 41/50\n",
      "11/11 [==============================] - 0s 6ms/step - loss: 11.6473 - mae: 2.4489 - val_loss: 17.2712 - val_mae: 2.8154\n",
      "Epoch 42/50\n",
      "11/11 [==============================] - 0s 6ms/step - loss: 11.5784 - mae: 2.4362 - val_loss: 17.1254 - val_mae: 2.7711\n",
      "Epoch 43/50\n",
      "11/11 [==============================] - 0s 7ms/step - loss: 11.4375 - mae: 2.4145 - val_loss: 17.0712 - val_mae: 2.7388\n",
      "Epoch 44/50\n",
      "11/11 [==============================] - 0s 9ms/step - loss: 11.3138 - mae: 2.4106 - val_loss: 16.8846 - val_mae: 2.7789\n",
      "Epoch 45/50\n",
      "11/11 [==============================] - 0s 7ms/step - loss: 11.4492 - mae: 2.4478 - val_loss: 17.0476 - val_mae: 2.8427\n",
      "Epoch 46/50\n",
      "11/11 [==============================] - 0s 6ms/step - loss: 11.2347 - mae: 2.4171 - val_loss: 16.8150 - val_mae: 2.7678\n",
      "Epoch 47/50\n",
      "11/11 [==============================] - 0s 11ms/step - loss: 11.0973 - mae: 2.3757 - val_loss: 16.7534 - val_mae: 2.6613\n",
      "Epoch 48/50\n",
      "11/11 [==============================] - 0s 5ms/step - loss: 10.8502 - mae: 2.3551 - val_loss: 16.4309 - val_mae: 2.7187\n",
      "Epoch 49/50\n",
      "11/11 [==============================] - 0s 7ms/step - loss: 10.7565 - mae: 2.3647 - val_loss: 16.5670 - val_mae: 2.7509\n",
      "Epoch 50/50\n",
      "11/11 [==============================] - 0s 8ms/step - loss: 10.6672 - mae: 2.3687 - val_loss: 16.2854 - val_mae: 2.7291\n",
      "Training time: 5.055614233016968\n"
     ]
    }
   ],
   "source": [
    "# Training the model\n",
    "start_time = time.time()\n",
    "history = model.fit(x_train, y_train, epochs=50, batch_size=32, validation_split=0.2)\n",
    "train_time = time.time() - start_time\n",
    "print(\"Training time:\", train_time)\n",
    "\n"
   ]
  },
  {
   "cell_type": "code",
   "execution_count": 6,
   "id": "2f3aaf10",
   "metadata": {},
   "outputs": [
    {
     "name": "stdout",
     "output_type": "stream",
     "text": [
      "4/4 [==============================] - 0s 3ms/step - loss: 11.2844 - mae: 2.6757\n",
      "Testing time: 0.10008645057678223\n",
      "MSE: 11.284368515014648\n",
      "MAE: 2.6756529808044434\n"
     ]
    }
   ],
   "source": [
    "# Evaluating the model\n",
    "start_time = time.time()\n",
    "mse, mae = model.evaluate(x_test, y_test)\n",
    "test_time = time.time() - start_time\n",
    "print(\"Testing time:\", test_time)\n",
    "print(\"MSE:\", mse)\n",
    "print(\"MAE:\", mae)\n",
    "\n"
   ]
  },
  {
   "cell_type": "code",
   "execution_count": 7,
   "id": "ce5c4c0a",
   "metadata": {},
   "outputs": [
    {
     "data": {
      "image/png": "[encoded data removed]",
      "text/plain": [
       "<Figure size 640x480 with 1 Axes>"
      ]
     },
     "metadata": {},
     "output_type": "display_data"
    }
   ],
   "source": [
    "# Plotting the training history\n",
    "import matplotlib.pyplot as plt\n",
    "plt.plot(history.history['loss'])\n",
    "plt.plot(history.history['val_loss'])\n",
    "plt.title('Model Loss')\n",
    "plt.ylabel('Loss')\n",
    "plt.xlabel('Epoch')\n",
    "plt.legend(['Train', 'Test'], loc='upper left')\n",
    "plt.show()\n"
   ]
  },
  {
   "cell_type": "code",
   "execution_count": null,
   "id": "cf295b33",
   "metadata": {},
   "outputs": [
    {
     "name": "stdout",
     "output_type": "stream",
     "text": [
      "Enter the values of 13 features separated by commas: 0.02731,0.0,7.07,0,0.469,6.421,78.9,4.9671,2,242.0,17.8,396.9,9.14\n",
      "1/1 [==============================] - 0s 100ms/step\n"
     ]
    },
    {
     "name": "stderr",
     "output_type": "stream",
     "text": [
      "C:\\Users\\Manpreet\\AppData\\Local\\Programs\\Python\\Python310\\lib\\site-packages\\sklearn\\base.py:450: UserWarning: X does not have valid feature names, but StandardScaler was fitted with feature names\n",
      "  warnings.warn(\n"
     ]
    },
    {
     "name": "stdout",
     "output_type": "stream",
     "text": [
      "Predicted MEDV: 23.476538\n",
      "Prediction time: 0.15813899040222168\n",
      "Enter the values of 13 features separated by commas: 0.9557700000000001,0.0,8.14,0,0.538,6.047,88.8,4.4534,4,307.0,21.0,306.38,17.28\n",
      "1/1 [==============================] - 0s 26ms/step\n"
     ]
    },
    {
     "name": "stderr",
     "output_type": "stream",
     "text": [
      "C:\\Users\\Manpreet\\AppData\\Local\\Programs\\Python\\Python310\\lib\\site-packages\\sklearn\\base.py:450: UserWarning: X does not have valid feature names, but StandardScaler was fitted with feature names\n",
      "  warnings.warn(\n"
     ]
    },
    {
     "name": "stdout",
     "output_type": "stream",
     "text": [
      "Predicted MEDV: 13.033689\n",
      "Prediction time: 0.07119369506835938\n",
      "Enter the values of 13 features separated by commas: 0.02729,0.0,7.07,0,0.469,7.185,61.1,4.9671,2,242.0,17.8,392.83,4.03\n",
      "1/1 [==============================] - 0s 27ms/step\n"
     ]
    },
    {
     "name": "stderr",
     "output_type": "stream",
     "text": [
      "C:\\Users\\Manpreet\\AppData\\Local\\Programs\\Python\\Python310\\lib\\site-packages\\sklearn\\base.py:450: UserWarning: X does not have valid feature names, but StandardScaler was fitted with feature names\n",
      "  warnings.warn(\n"
     ]
    },
    {
     "name": "stdout",
     "output_type": "stream",
     "text": [
      "Predicted MEDV: 33.260532\n",
      "Prediction time: 0.07551431655883789\n"
     ]
    }
   ],
   "source": [
    "# Predicting using dynamic input from the user\n",
    "while True:\n",
    "    try:\n",
    "        user_input = [float(x.strip()) for x in input(\"Enter the values of 13 features separated by commas: \").split(',')]\n",
    "        if len(user_input) != 13:\n",
    "            print(\"Please enter exactly 13 values.\")\n",
    "            continue\n",
    "        user_input = np.array(user_input).reshape(1, 13)\n",
    "        user_input_scaled = scaler.transform(user_input)  # Scale input features\n",
    "        \n",
    "        start_time = time.time()\n",
    "        prediction = model.predict(user_input_scaled)\n",
    "        pred_time = time.time() - start_time\n",
    "        \n",
    "        print(\"Predicted MEDV:\", prediction[0][0])\n",
    "        print(\"Prediction time:\", pred_time)\n",
    "    except ValueError:\n",
    "        print(\"Please enter numerical values only.\")\n",
    "    except KeyboardInterrupt:\n",
    "        print(\"\\nExiting...\")\n",
    "        break\n",
    "# 0.02731,0.0,7.07,0,0.469,6.421,78.9,4.9671,2,242.0,17.8,396.9,9.14"
   ]
  },
  {
   "cell_type": "code",
   "execution_count": null,
   "id": "6828b7c8",
   "metadata": {},
   "outputs": [],
   "source": []
  }
 ],
 "metadata": {
  "kernelspec": {
   "display_name": "Python 3 (ipykernel)",
   "language": "python",
   "name": "python3"
  },
  "language_info": {
   "codemirror_mode": {
    "name": "ipython",
    "version": 3
   },
   "file_extension": ".py",
   "mimetype": "text/x-python",
   "name": "python",
   "nbconvert_exporter": "python",
   "pygments_lexer": "ipython3",
   "version": "3.10.7"
  }
 },
 "nbformat": 4,
 "nbformat_minor": 5
}
